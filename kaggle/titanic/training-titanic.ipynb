{
 "cells": [
  {
   "cell_type": "code",
   "execution_count": 1,
   "metadata": {},
   "outputs": [],
   "source": [
    "import os\n",
    "import numpy as np\n",
    "import pandas as pd"
   ]
  },
  {
   "cell_type": "code",
   "execution_count": 2,
   "metadata": {},
   "outputs": [],
   "source": [
    "seed: int = 42"
   ]
  },
  {
   "cell_type": "code",
   "execution_count": 30,
   "metadata": {},
   "outputs": [],
   "source": [
    "def read_csv(file: str) -> pd.DataFrame:\n",
    "    df = pd.read_csv(os.path.join(os.getcwd(), f\"dataset/{file}\"))\n",
    "    return df"
   ]
  },
  {
   "cell_type": "code",
   "execution_count": 31,
   "metadata": {},
   "outputs": [],
   "source": [
    "titanic = read_csv(\"train_engineered.csv\")\n",
    "titanic_copy = titanic.copy()"
   ]
  },
  {
   "cell_type": "code",
   "execution_count": 32,
   "metadata": {},
   "outputs": [
    {
     "data": {
      "text/plain": [
       "array(['Survived', 'Pclass', 'Sex', 'Age', 'SibSp', 'Parch', 'Fare',\n",
       "       'Embarked', 'title', 'Age_present', 'Embarked_present'],\n",
       "      dtype=object)"
      ]
     },
     "execution_count": 32,
     "metadata": {},
     "output_type": "execute_result"
    }
   ],
   "source": [
    "titanic_copy.columns.values"
   ]
  },
  {
   "cell_type": "code",
   "execution_count": 33,
   "metadata": {},
   "outputs": [],
   "source": [
    "titanic_copy[\"Embarked\"] = titanic_copy['Embarked'].replace(np.nan, \"S\")"
   ]
  },
  {
   "cell_type": "code",
   "execution_count": 35,
   "metadata": {},
   "outputs": [],
   "source": [
    "from sklearn.model_selection import train_test_split\n",
    "\n",
    "train, test = train_test_split(titanic_copy, test_size=0.2, random_state=seed, stratify=titanic_copy[\"Survived\"])"
   ]
  },
  {
   "cell_type": "code",
   "execution_count": 36,
   "metadata": {},
   "outputs": [],
   "source": [
    "from imblearn.pipeline import Pipeline\n",
    "from sklearn.compose import ColumnTransformer\n",
    "from sklearn.impute import SimpleImputer\n",
    "from sklearn.preprocessing import OneHotEncoder, StandardScaler, OrdinalEncoder\n",
    "\n",
    "\n",
    "numeric_features = [\"Age\", \"Fare\"]\n",
    "ordinal_features = [\"Pclass\"]\n",
    "categorical_features = [\"Sex\", \"SibSp\", \"Parch\", \"Embarked\", \"title\", \"Embarked_present\", \"Age_present\"]\n",
    "\n",
    "numeric_transformer = Pipeline(steps=[(\"imputer\", SimpleImputer(strategy=\"median\")), (\"scaler\", StandardScaler())])\n",
    "categorical_transformer = OneHotEncoder(handle_unknown=\"error\")\n",
    "ordinal_transformer = OrdinalEncoder(handle_unknown=\"error\")\n",
    "\n",
    "preprocessor = ColumnTransformer(\n",
    "    transformers=[\n",
    "        (\"num\", numeric_transformer, numeric_features),\n",
    "        (\"cat\", categorical_transformer, categorical_features),\n",
    "        (\"ord\", ordinal_transformer, ordinal_features),\n",
    "    ]\n",
    ")"
   ]
  },
  {
   "cell_type": "code",
   "execution_count": 37,
   "metadata": {},
   "outputs": [],
   "source": [
    "from imblearn.over_sampling import SMOTE\n",
    "\n",
    "from sklearn.linear_model import LogisticRegression\n",
    "from sklearn.ensemble import RandomForestClassifier\n",
    "from sklearn.ensemble import AdaBoostClassifier\n",
    "from sklearn.naive_bayes import GaussianNB\n",
    "from sklearn.neural_network import MLPClassifier\n",
    "\n",
    "from lightgbm import LGBMClassifier\n",
    "\n",
    "classifiers = {\n",
    "    \"logit\": Pipeline(steps=[(\"preprocessor\", preprocessor), (\"sampling\", SMOTE()), (\"classifier\", LogisticRegression(random_state=seed))]),\n",
    "    \"rf\": Pipeline(steps=[(\"preprocessor\", preprocessor), (\"sampling\", SMOTE()), (\"classifier\", RandomForestClassifier(random_state=seed))]),\n",
    "    \"lbgm\": Pipeline(steps=[(\"preprocessor\", preprocessor), (\"sampling\", SMOTE()), (\"classifier\", LGBMClassifier(random_state=seed))]),\n",
    "    \"neural\": Pipeline(steps=[(\"preprocessor\", preprocessor), (\"sampling\", SMOTE()), (\"classifier\", MLPClassifier(random_state=seed))]),\n",
    "    # \"nb\": Pipeline(steps=[(\"preprocessor\", preprocessor), (\"sampling\", SMOTE()), (\"classifier\", GaussianNB())]),\n",
    "    \"ada\": Pipeline(steps=[(\"preprocessor\", preprocessor), (\"sampling\", SMOTE()), (\"classifier\", AdaBoostClassifier(random_state=seed))]),\n",
    "}"
   ]
  },
  {
   "cell_type": "code",
   "execution_count": 38,
   "metadata": {},
   "outputs": [],
   "source": [
    "y_train = train[\"Survived\"]\n",
    "del train[\"Survived\"]\n",
    "\n",
    "y_test = test[\"Survived\"]\n",
    "del test[\"Survived\"]\n",
    "    "
   ]
  },
  {
   "cell_type": "code",
   "execution_count": 39,
   "metadata": {},
   "outputs": [
    {
     "name": "stderr",
     "output_type": "stream",
     "text": [
      "C:\\Users\\user\\AppData\\Local\\Packages\\PythonSoftwareFoundation.Python.3.10_qbz5n2kfra8p0\\LocalCache\\local-packages\\Python310\\site-packages\\sklearn\\neural_network\\_multilayer_perceptron.py:702: ConvergenceWarning: Stochastic Optimizer: Maximum iterations (200) reached and the optimization hasn't converged yet.\n",
      "  warnings.warn(\n",
      "C:\\Users\\user\\AppData\\Local\\Packages\\PythonSoftwareFoundation.Python.3.10_qbz5n2kfra8p0\\LocalCache\\local-packages\\Python310\\site-packages\\sklearn\\neural_network\\_multilayer_perceptron.py:702: ConvergenceWarning: Stochastic Optimizer: Maximum iterations (200) reached and the optimization hasn't converged yet.\n",
      "  warnings.warn(\n",
      "C:\\Users\\user\\AppData\\Local\\Packages\\PythonSoftwareFoundation.Python.3.10_qbz5n2kfra8p0\\LocalCache\\local-packages\\Python310\\site-packages\\sklearn\\neural_network\\_multilayer_perceptron.py:702: ConvergenceWarning: Stochastic Optimizer: Maximum iterations (200) reached and the optimization hasn't converged yet.\n",
      "  warnings.warn(\n",
      "C:\\Users\\user\\AppData\\Local\\Packages\\PythonSoftwareFoundation.Python.3.10_qbz5n2kfra8p0\\LocalCache\\local-packages\\Python310\\site-packages\\sklearn\\neural_network\\_multilayer_perceptron.py:702: ConvergenceWarning: Stochastic Optimizer: Maximum iterations (200) reached and the optimization hasn't converged yet.\n",
      "  warnings.warn(\n",
      "C:\\Users\\user\\AppData\\Local\\Packages\\PythonSoftwareFoundation.Python.3.10_qbz5n2kfra8p0\\LocalCache\\local-packages\\Python310\\site-packages\\sklearn\\neural_network\\_multilayer_perceptron.py:702: ConvergenceWarning: Stochastic Optimizer: Maximum iterations (200) reached and the optimization hasn't converged yet.\n",
      "  warnings.warn(\n",
      "C:\\Users\\user\\AppData\\Local\\Packages\\PythonSoftwareFoundation.Python.3.10_qbz5n2kfra8p0\\LocalCache\\local-packages\\Python310\\site-packages\\sklearn\\neural_network\\_multilayer_perceptron.py:702: ConvergenceWarning: Stochastic Optimizer: Maximum iterations (200) reached and the optimization hasn't converged yet.\n",
      "  warnings.warn(\n",
      "C:\\Users\\user\\AppData\\Local\\Packages\\PythonSoftwareFoundation.Python.3.10_qbz5n2kfra8p0\\LocalCache\\local-packages\\Python310\\site-packages\\sklearn\\neural_network\\_multilayer_perceptron.py:702: ConvergenceWarning: Stochastic Optimizer: Maximum iterations (200) reached and the optimization hasn't converged yet.\n",
      "  warnings.warn(\n",
      "C:\\Users\\user\\AppData\\Local\\Packages\\PythonSoftwareFoundation.Python.3.10_qbz5n2kfra8p0\\LocalCache\\local-packages\\Python310\\site-packages\\sklearn\\neural_network\\_multilayer_perceptron.py:702: ConvergenceWarning: Stochastic Optimizer: Maximum iterations (200) reached and the optimization hasn't converged yet.\n",
      "  warnings.warn(\n",
      "C:\\Users\\user\\AppData\\Local\\Packages\\PythonSoftwareFoundation.Python.3.10_qbz5n2kfra8p0\\LocalCache\\local-packages\\Python310\\site-packages\\sklearn\\neural_network\\_multilayer_perceptron.py:702: ConvergenceWarning: Stochastic Optimizer: Maximum iterations (200) reached and the optimization hasn't converged yet.\n",
      "  warnings.warn(\n",
      "C:\\Users\\user\\AppData\\Local\\Packages\\PythonSoftwareFoundation.Python.3.10_qbz5n2kfra8p0\\LocalCache\\local-packages\\Python310\\site-packages\\sklearn\\neural_network\\_multilayer_perceptron.py:702: ConvergenceWarning: Stochastic Optimizer: Maximum iterations (200) reached and the optimization hasn't converged yet.\n",
      "  warnings.warn(\n",
      "C:\\Users\\user\\AppData\\Local\\Packages\\PythonSoftwareFoundation.Python.3.10_qbz5n2kfra8p0\\LocalCache\\local-packages\\Python310\\site-packages\\sklearn\\neural_network\\_multilayer_perceptron.py:702: ConvergenceWarning: Stochastic Optimizer: Maximum iterations (200) reached and the optimization hasn't converged yet.\n",
      "  warnings.warn(\n"
     ]
    }
   ],
   "source": [
    "import seaborn as sns    \n",
    "from sklearn.metrics import confusion_matrix, accuracy_score, f1_score\n",
    "from sklearn.model_selection import KFold, cross_val_score\n",
    "\n",
    "reports = []\n",
    "kfold_results = []\n",
    "names = []\n",
    "\n",
    "for name, classifier in classifiers.items():\n",
    "    names.append(name)\n",
    "    \n",
    "    # kfold\n",
    "    kfold = KFold(n_splits=10, random_state=seed, shuffle=True)\n",
    "    kfold_result = cross_val_score(classifier, train, y_train, cv=kfold, scoring='accuracy')\n",
    "    kfold_results.append(kfold_result)\n",
    "    \n",
    "    # train test split\n",
    "    classifier.fit(train, y_train)\n",
    "    predictions = classifier.predict(test)\n",
    "    reports.append({\n",
    "        'name': name,\n",
    "        'confusion': confusion_matrix(y_test, predictions),\n",
    "        'accuracy': accuracy_score(y_test, predictions),\n",
    "        'f1': f1_score(y_test, predictions)\n",
    "    })"
   ]
  },
  {
   "cell_type": "code",
   "execution_count": 47,
   "metadata": {},
   "outputs": [
    {
     "data": {
      "image/png": "[encoded data removed]",
      "text/plain": [
       "<Figure size 640x480 with 1 Axes>"
      ]
     },
     "metadata": {},
     "output_type": "display_data"
    }
   ],
   "source": [
    "\n",
    "import seaborn as sns\n",
    "\n",
    "g = sns.boxplot(data=kfold_results)\n",
    "g.set_title('Model Evaluation\\n KFold 10 Splits')\n",
    "g.set_xlabel('Model')\n",
    "g.set_ylabel('Accuracy')\n",
    "g.set_xticklabels(names, rotation=90)\n",
    "g.get_figure().tight_layout()"
   ]
  },
  {
   "cell_type": "code",
   "execution_count": 49,
   "metadata": {},
   "outputs": [
    {
     "name": "stdout",
     "output_type": "stream",
     "text": [
      "--------------------\n",
      "logit\n",
      "--------------------\n",
      "F1 Score:         0.7832167832167832\n",
      "Accuracy:         0.8268156424581006\n",
      "Mean KFold (10):  0.8092723004694836\n",
      "Std. KFold (10):  0.03436048316145666\n",
      "TPR:              0.8115942028985508\n",
      "FPR:              0.16363636363636364\n",
      "Specificity:      0.8363636363636364\n",
      "Precision:        0.7567567567567568\n",
      "\n",
      "--------------------\n",
      "rf\n",
      "--------------------\n",
      "F1 Score:         0.7391304347826085\n",
      "Accuracy:         0.7988826815642458\n",
      "Mean KFold (10):  0.8092723004694836\n",
      "Std. KFold (10):  0.03436048316145666\n",
      "TPR:              0.7391304347826086\n",
      "FPR:              0.16363636363636364\n",
      "Specificity:      0.8363636363636364\n",
      "Precision:        0.7391304347826086\n",
      "\n",
      "--------------------\n",
      "lbgm\n",
      "--------------------\n",
      "F1 Score:         0.7391304347826085\n",
      "Accuracy:         0.7988826815642458\n",
      "Mean KFold (10):  0.8092723004694836\n",
      "Std. KFold (10):  0.03436048316145666\n",
      "TPR:              0.7391304347826086\n",
      "FPR:              0.16363636363636364\n",
      "Specificity:      0.8363636363636364\n",
      "Precision:        0.7391304347826086\n",
      "\n",
      "--------------------\n",
      "neural\n",
      "--------------------\n",
      "F1 Score:         0.7164179104477613\n",
      "Accuracy:         0.7877094972067039\n",
      "Mean KFold (10):  0.8092723004694836\n",
      "Std. KFold (10):  0.03436048316145666\n",
      "TPR:              0.6956521739130435\n",
      "FPR:              0.15454545454545454\n",
      "Specificity:      0.8454545454545455\n",
      "Precision:        0.7384615384615385\n",
      "\n",
      "--------------------\n",
      "ada\n",
      "--------------------\n",
      "F1 Score:         0.7397260273972603\n",
      "Accuracy:         0.7877094972067039\n",
      "Mean KFold (10):  0.8092723004694836\n",
      "Std. KFold (10):  0.03436048316145666\n",
      "TPR:              0.782608695652174\n",
      "FPR:              0.20909090909090908\n",
      "Specificity:      0.7909090909090909\n",
      "Precision:        0.7012987012987013\n",
      "\n"
     ]
    }
   ],
   "source": [
    "def print_model_stats(kfold_result, report):\n",
    "    tn = report['confusion'][0][0] # True negative\n",
    "    fp = report['confusion'][0][1] # False positive\n",
    "    fn = report['confusion'][1][0] # False negative\n",
    "    tp = report['confusion'][1][1] # True positive\n",
    "    \n",
    "    mr = 1 - report['accuracy'] # Misclassification rate\n",
    "    tpr = tp / (fn + tp) # True positive rate\n",
    "    fpr = fp / (tn + fp) # False positive rate\n",
    "    spec = 1 - fpr # Specificity\n",
    "    prec = tp / (fp + tp) # Precision    \n",
    "    \n",
    "    print('--------------------')\n",
    "    print(report['name'])\n",
    "    print('--------------------')\n",
    "    print('F1 Score:        ', report['f1'])\n",
    "    print('Accuracy:        ', report['accuracy'])\n",
    "    print('Mean KFold (10): ', kfold_result.mean())\n",
    "    print('Std. KFold (10): ', kfold_result.std())\n",
    "    print('TPR:             ', tpr)\n",
    "    print('FPR:             ', fpr)\n",
    "    print('Specificity:     ', spec)\n",
    "    print('Precision:       ', prec)\n",
    "    print()\n",
    "    \n",
    "for kfold, report in zip(kfold_results, reports):\n",
    "    print_model_stats(kfold_result, report)"
   ]
  },
  {
   "cell_type": "code",
   "execution_count": 62,
   "metadata": {},
   "outputs": [
    {
     "name": "stderr",
     "output_type": "stream",
     "text": [
      "C:\\Users\\user\\AppData\\Local\\Packages\\PythonSoftwareFoundation.Python.3.10_qbz5n2kfra8p0\\LocalCache\\local-packages\\Python310\\site-packages\\sklearn\\model_selection\\_validation.py:378: FitFailedWarning: \n",
      "280 fits failed out of a total of 1050.\n",
      "The score on these train-test partitions for these parameters will be set to 0.0.\n",
      "If these failures are not expected, you can try to debug them by setting error_score='raise'.\n",
      "\n",
      "Below are more details about the failures:\n",
      "--------------------------------------------------------------------------------\n",
      "70 fits failed with the following error:\n",
      "Traceback (most recent call last):\n",
      "  File \"C:\\Users\\user\\AppData\\Local\\Packages\\PythonSoftwareFoundation.Python.3.10_qbz5n2kfra8p0\\LocalCache\\local-packages\\Python310\\site-packages\\sklearn\\model_selection\\_validation.py\", line 686, in _fit_and_score\n",
      "    estimator.fit(X_train, y_train, **fit_params)\n",
      "  File \"C:\\Users\\user\\AppData\\Local\\Packages\\PythonSoftwareFoundation.Python.3.10_qbz5n2kfra8p0\\LocalCache\\local-packages\\Python310\\site-packages\\imblearn\\pipeline.py\", line 272, in fit\n",
      "    self._final_estimator.fit(Xt, yt, **fit_params_last_step)\n",
      "  File \"C:\\Users\\user\\AppData\\Local\\Packages\\PythonSoftwareFoundation.Python.3.10_qbz5n2kfra8p0\\LocalCache\\local-packages\\Python310\\site-packages\\sklearn\\linear_model\\_logistic.py\", line 1091, in fit\n",
      "    solver = _check_solver(self.solver, self.penalty, self.dual)\n",
      "  File \"C:\\Users\\user\\AppData\\Local\\Packages\\PythonSoftwareFoundation.Python.3.10_qbz5n2kfra8p0\\LocalCache\\local-packages\\Python310\\site-packages\\sklearn\\linear_model\\_logistic.py\", line 78, in _check_solver\n",
      "    raise ValueError(\"penalty='none' is not supported for the liblinear solver\")\n",
      "ValueError: penalty='none' is not supported for the liblinear solver\n",
      "\n",
      "--------------------------------------------------------------------------------\n",
      "70 fits failed with the following error:\n",
      "Traceback (most recent call last):\n",
      "  File \"C:\\Users\\user\\AppData\\Local\\Packages\\PythonSoftwareFoundation.Python.3.10_qbz5n2kfra8p0\\LocalCache\\local-packages\\Python310\\site-packages\\sklearn\\model_selection\\_validation.py\", line 686, in _fit_and_score\n",
      "    estimator.fit(X_train, y_train, **fit_params)\n",
      "  File \"C:\\Users\\user\\AppData\\Local\\Packages\\PythonSoftwareFoundation.Python.3.10_qbz5n2kfra8p0\\LocalCache\\local-packages\\Python310\\site-packages\\imblearn\\pipeline.py\", line 272, in fit\n",
      "    self._final_estimator.fit(Xt, yt, **fit_params_last_step)\n",
      "  File \"C:\\Users\\user\\AppData\\Local\\Packages\\PythonSoftwareFoundation.Python.3.10_qbz5n2kfra8p0\\LocalCache\\local-packages\\Python310\\site-packages\\sklearn\\linear_model\\_logistic.py\", line 1091, in fit\n",
      "    solver = _check_solver(self.solver, self.penalty, self.dual)\n",
      "  File \"C:\\Users\\user\\AppData\\Local\\Packages\\PythonSoftwareFoundation.Python.3.10_qbz5n2kfra8p0\\LocalCache\\local-packages\\Python310\\site-packages\\sklearn\\linear_model\\_logistic.py\", line 61, in _check_solver\n",
      "    raise ValueError(\n",
      "ValueError: Solver newton-cg supports only 'l2' or 'none' penalties, got l1 penalty.\n",
      "\n",
      "--------------------------------------------------------------------------------\n",
      "70 fits failed with the following error:\n",
      "Traceback (most recent call last):\n",
      "  File \"C:\\Users\\user\\AppData\\Local\\Packages\\PythonSoftwareFoundation.Python.3.10_qbz5n2kfra8p0\\LocalCache\\local-packages\\Python310\\site-packages\\sklearn\\model_selection\\_validation.py\", line 686, in _fit_and_score\n",
      "    estimator.fit(X_train, y_train, **fit_params)\n",
      "  File \"C:\\Users\\user\\AppData\\Local\\Packages\\PythonSoftwareFoundation.Python.3.10_qbz5n2kfra8p0\\LocalCache\\local-packages\\Python310\\site-packages\\imblearn\\pipeline.py\", line 272, in fit\n",
      "    self._final_estimator.fit(Xt, yt, **fit_params_last_step)\n",
      "  File \"C:\\Users\\user\\AppData\\Local\\Packages\\PythonSoftwareFoundation.Python.3.10_qbz5n2kfra8p0\\LocalCache\\local-packages\\Python310\\site-packages\\sklearn\\linear_model\\_logistic.py\", line 1091, in fit\n",
      "    solver = _check_solver(self.solver, self.penalty, self.dual)\n",
      "  File \"C:\\Users\\user\\AppData\\Local\\Packages\\PythonSoftwareFoundation.Python.3.10_qbz5n2kfra8p0\\LocalCache\\local-packages\\Python310\\site-packages\\sklearn\\linear_model\\_logistic.py\", line 61, in _check_solver\n",
      "    raise ValueError(\n",
      "ValueError: Solver lbfgs supports only 'l2' or 'none' penalties, got l1 penalty.\n",
      "\n",
      "--------------------------------------------------------------------------------\n",
      "70 fits failed with the following error:\n",
      "Traceback (most recent call last):\n",
      "  File \"C:\\Users\\user\\AppData\\Local\\Packages\\PythonSoftwareFoundation.Python.3.10_qbz5n2kfra8p0\\LocalCache\\local-packages\\Python310\\site-packages\\sklearn\\model_selection\\_validation.py\", line 686, in _fit_and_score\n",
      "    estimator.fit(X_train, y_train, **fit_params)\n",
      "  File \"C:\\Users\\user\\AppData\\Local\\Packages\\PythonSoftwareFoundation.Python.3.10_qbz5n2kfra8p0\\LocalCache\\local-packages\\Python310\\site-packages\\imblearn\\pipeline.py\", line 272, in fit\n",
      "    self._final_estimator.fit(Xt, yt, **fit_params_last_step)\n",
      "  File \"C:\\Users\\user\\AppData\\Local\\Packages\\PythonSoftwareFoundation.Python.3.10_qbz5n2kfra8p0\\LocalCache\\local-packages\\Python310\\site-packages\\sklearn\\linear_model\\_logistic.py\", line 1091, in fit\n",
      "    solver = _check_solver(self.solver, self.penalty, self.dual)\n",
      "  File \"C:\\Users\\user\\AppData\\Local\\Packages\\PythonSoftwareFoundation.Python.3.10_qbz5n2kfra8p0\\LocalCache\\local-packages\\Python310\\site-packages\\sklearn\\linear_model\\_logistic.py\", line 61, in _check_solver\n",
      "    raise ValueError(\n",
      "ValueError: Solver sag supports only 'l2' or 'none' penalties, got l1 penalty.\n",
      "\n",
      "  warnings.warn(some_fits_failed_message, FitFailedWarning)\n"
     ]
    },
    {
     "name": "stdout",
     "output_type": "stream",
     "text": [
      "logit {'classifier__C': 1, 'classifier__penalty': 'none', 'classifier__solver': 'newton-cg'} 0.8149256651017215\n",
      "rf {'classifier__max_depth': 13, 'classifier__max_features': 'sqrt', 'classifier__min_samples_split': 0.1} 0.8121087636932709\n",
      "ada {'classifier__learning_rate': 1.0, 'classifier__n_estimators': 500} 0.8149647887323944\n"
     ]
    }
   ],
   "source": [
    "\n",
    "import warnings\n",
    "warnings.filterwarnings(\"ignore\", message=\"Numerical issues were encountered \")\n",
    "\n",
    "from sklearn.model_selection import GridSearchCV\n",
    "\n",
    "hyperparameters = {\n",
    "    \"logit\": {\"param_grid\": \n",
    "        {'classifier__C': [0.001, 0.01, 0.1, 1, 10, 100, 1000], \n",
    "         'classifier__penalty': [\"none\", \"l2\", \"l1\"], \n",
    "         'classifier__solver': ['newton-cg', 'lbfgs', 'liblinear', 'sag', 'saga']\n",
    "        }},\n",
    "    \"rf\": {\"param_grid\": {\n",
    "        'classifier__max_features' : [\"auto\", \"sqrt\", \"log2\"],\n",
    "        'classifier__min_samples_split' : np.linspace(0.1, 1.0, 10),\n",
    "        'classifier__max_depth' : [x for x in range(1,20)]\n",
    "    }},\n",
    "    \"ada\": {\"param_grid\": {\n",
    "        'classifier__learning_rate' : [0.0001, 0.001, 0.01, 0.1, 1.0],\n",
    "        'classifier__n_estimators' : [10, 50, 100, 500]\n",
    "    }},\n",
    "    # \"lgbm\": {\"param_grid\": {\n",
    "    #     ''\n",
    "    # }}\n",
    "    \"neural\": {\"param_grid\": {\n",
    "        'hidden_layer_sizes': [(50,50,50), (50,100,50), (100,)],\n",
    "        'activation': ['tanh', 'relu'],\n",
    "        'solver': ['sgd', 'adam'],\n",
    "        'alpha': [0.0001, 0.05],\n",
    "        'learning_rate': ['constant','adaptive']\n",
    "    }}\n",
    "}\n",
    "\n",
    "best_classifiers = {}\n",
    "\n",
    "for key, params in hyperparameters.items():\n",
    "    param_grid = params[\"param_grid\"]\n",
    "    model = classifiers[key]\n",
    "    \n",
    "    grid_search = GridSearchCV(estimator=model, param_grid=param_grid, cv= 10, n_jobs = -1, error_score=0.0)\n",
    "    grid_search.fit(train, y_train)\n",
    "    \n",
    "    best_classifiers[key] = grid_search.best_estimator_\n",
    "    \n",
    "    print(key, grid_search.best_params_, grid_search.best_score_)"
   ]
  }
 ],
 "metadata": {
  "kernelspec": {
   "display_name": "Python 3.10.7 64-bit (microsoft store)",
   "language": "python",
   "name": "python3"
  },
  "language_info": {
   "codemirror_mode": {
    "name": "ipython",
    "version": 3
   },
   "file_extension": ".py",
   "mimetype": "text/x-python",
   "name": "python",
   "nbconvert_exporter": "python",
   "pygments_lexer": "ipython3",
   "version": "3.10.7"
  },
  "orig_nbformat": 4,
  "vscode": {
   "interpreter": {
    "hash": "7b1f2b33e866b0bf2409397e5f58ba9cdf170d3b7f64c8f359c79998e2f88ad4"
   }
  }
 },
 "nbformat": 4,
 "nbformat_minor": 2
}
