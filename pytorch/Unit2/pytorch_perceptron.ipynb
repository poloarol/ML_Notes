{
 "cells": [
  {
   "attachments": {},
   "cell_type": "markdown",
   "metadata": {},
   "source": [
    "# Implementation of Perceptron"
   ]
  },
  {
   "cell_type": "code",
   "execution_count": 1,
   "metadata": {},
   "outputs": [
    {
     "name": "stdout",
     "output_type": "stream",
     "text": [
      "Requirement already satisfied: numpy in /home/codespace/.local/lib/python3.10/site-packages (1.23.5)\n",
      "Requirement already satisfied: pandas in /home/codespace/.local/lib/python3.10/site-packages (1.5.2)\n",
      "Requirement already satisfied: matplotlib in /home/codespace/.local/lib/python3.10/site-packages (3.6.2)\n",
      "Collecting pytorch\n",
      "  Using cached pytorch-1.0.2.tar.gz (689 bytes)\n",
      "  Preparing metadata (setup.py) ... \u001b[?25ldone\n",
      "\u001b[?25hRequirement already satisfied: pytz>=2020.1 in /home/codespace/.local/lib/python3.10/site-packages (from pandas) (2022.6)\n",
      "Requirement already satisfied: python-dateutil>=2.8.1 in /home/codespace/.local/lib/python3.10/site-packages (from pandas) (2.8.2)\n",
      "Requirement already satisfied: pyparsing>=2.2.1 in /home/codespace/.local/lib/python3.10/site-packages (from matplotlib) (3.0.9)\n",
      "Requirement already satisfied: contourpy>=1.0.1 in /home/codespace/.local/lib/python3.10/site-packages (from matplotlib) (1.0.6)\n",
      "Requirement already satisfied: fonttools>=4.22.0 in /home/codespace/.local/lib/python3.10/site-packages (from matplotlib) (4.38.0)\n",
      "Requirement already satisfied: cycler>=0.10 in /home/codespace/.local/lib/python3.10/site-packages (from matplotlib) (0.11.0)\n",
      "Requirement already satisfied: kiwisolver>=1.0.1 in /home/codespace/.local/lib/python3.10/site-packages (from matplotlib) (1.4.4)\n",
      "Requirement already satisfied: packaging>=20.0 in /home/codespace/.local/lib/python3.10/site-packages (from matplotlib) (21.3)\n",
      "Requirement already satisfied: pillow>=6.2.0 in /home/codespace/.local/lib/python3.10/site-packages (from matplotlib) (9.3.0)\n",
      "Requirement already satisfied: six>=1.5 in /home/codespace/.local/lib/python3.10/site-packages (from python-dateutil>=2.8.1->pandas) (1.16.0)\n",
      "Building wheels for collected packages: pytorch\n",
      "  Building wheel for pytorch (setup.py) ... \u001b[?25lerror\n",
      "  \u001b[1;31merror\u001b[0m: \u001b[1msubprocess-exited-with-error\u001b[0m\n",
      "  \n",
      "  \u001b[31m×\u001b[0m \u001b[32mpython setup.py bdist_wheel\u001b[0m did not run successfully.\n",
      "  \u001b[31m│\u001b[0m exit code: \u001b[1;36m1\u001b[0m\n",
      "  \u001b[31m╰─>\u001b[0m \u001b[31m[6 lines of output]\u001b[0m\n",
      "  \u001b[31m   \u001b[0m Traceback (most recent call last):\n",
      "  \u001b[31m   \u001b[0m   File \"<string>\", line 2, in <module>\n",
      "  \u001b[31m   \u001b[0m   File \"<pip-setuptools-caller>\", line 34, in <module>\n",
      "  \u001b[31m   \u001b[0m   File \"/tmp/pip-install-dtckufa2/pytorch_0faea5b5c3174ef48c961d4a2dbd5a1c/setup.py\", line 15, in <module>\n",
      "  \u001b[31m   \u001b[0m     raise Exception(message)\n",
      "  \u001b[31m   \u001b[0m Exception: You tried to install \"pytorch\". The package named for PyTorch is \"torch\"\n",
      "  \u001b[31m   \u001b[0m \u001b[31m[end of output]\u001b[0m\n",
      "  \n",
      "  \u001b[1;35mnote\u001b[0m: This error originates from a subprocess, and is likely not a problem with pip.\n",
      "\u001b[31m  ERROR: Failed building wheel for pytorch\u001b[0m\u001b[31m\n",
      "\u001b[0m\u001b[?25h  Running setup.py clean for pytorch\n",
      "Failed to build pytorch\n",
      "Installing collected packages: pytorch\n",
      "  Running setup.py install for pytorch ... \u001b[?25lerror\n",
      "  \u001b[1;31merror\u001b[0m: \u001b[1msubprocess-exited-with-error\u001b[0m\n",
      "  \n",
      "  \u001b[31m×\u001b[0m \u001b[32mRunning setup.py install for pytorch\u001b[0m did not run successfully.\n",
      "  \u001b[31m│\u001b[0m exit code: \u001b[1;36m1\u001b[0m\n",
      "  \u001b[31m╰─>\u001b[0m \u001b[31m[6 lines of output]\u001b[0m\n",
      "  \u001b[31m   \u001b[0m Traceback (most recent call last):\n",
      "  \u001b[31m   \u001b[0m   File \"<string>\", line 2, in <module>\n",
      "  \u001b[31m   \u001b[0m   File \"<pip-setuptools-caller>\", line 34, in <module>\n",
      "  \u001b[31m   \u001b[0m   File \"/tmp/pip-install-dtckufa2/pytorch_0faea5b5c3174ef48c961d4a2dbd5a1c/setup.py\", line 11, in <module>\n",
      "  \u001b[31m   \u001b[0m     raise Exception(message)\n",
      "  \u001b[31m   \u001b[0m Exception: You tried to install \"pytorch\". The package named for PyTorch is \"torch\"\n",
      "  \u001b[31m   \u001b[0m \u001b[31m[end of output]\u001b[0m\n",
      "  \n",
      "  \u001b[1;35mnote\u001b[0m: This error originates from a subprocess, and is likely not a problem with pip.\n",
      "\u001b[?25h\u001b[1;31merror\u001b[0m: \u001b[1mlegacy-install-failure\u001b[0m\n",
      "\n",
      "\u001b[31m×\u001b[0m Encountered error while trying to install package.\n",
      "\u001b[31m╰─>\u001b[0m pytorch\n",
      "\n",
      "\u001b[1;35mnote\u001b[0m: This is an issue with the package mentioned above, not pip.\n",
      "\u001b[1;36mhint\u001b[0m: See above for output from the failure.\n",
      "Note: you may need to restart the kernel to use updated packages.\n"
     ]
    }
   ],
   "source": [
    "%pip install numpy pandas matplotlib pytorch"
   ]
  },
  {
   "cell_type": "code",
   "execution_count": 2,
   "metadata": {},
   "outputs": [
    {
     "name": "stdout",
     "output_type": "stream",
     "text": [
      "Requirement already satisfied: watermark in /usr/local/python/3.10.4/lib/python3.10/site-packages (2.3.1)\n",
      "Requirement already satisfied: ipython in /home/codespace/.local/lib/python3.10/site-packages (from watermark) (8.7.0)\n",
      "Requirement already satisfied: decorator in /home/codespace/.local/lib/python3.10/site-packages (from ipython->watermark) (5.1.1)\n",
      "Requirement already satisfied: pygments>=2.4.0 in /home/codespace/.local/lib/python3.10/site-packages (from ipython->watermark) (2.13.0)\n",
      "Requirement already satisfied: pexpect>4.3 in /home/codespace/.local/lib/python3.10/site-packages (from ipython->watermark) (4.8.0)\n",
      "Requirement already satisfied: prompt-toolkit<3.1.0,>=3.0.11 in /home/codespace/.local/lib/python3.10/site-packages (from ipython->watermark) (3.0.33)\n",
      "Requirement already satisfied: traitlets>=5 in /home/codespace/.local/lib/python3.10/site-packages (from ipython->watermark) (5.6.0)\n",
      "Requirement already satisfied: jedi>=0.16 in /home/codespace/.local/lib/python3.10/site-packages (from ipython->watermark) (0.18.2)\n",
      "Requirement already satisfied: backcall in /home/codespace/.local/lib/python3.10/site-packages (from ipython->watermark) (0.2.0)\n",
      "Requirement already satisfied: matplotlib-inline in /home/codespace/.local/lib/python3.10/site-packages (from ipython->watermark) (0.1.6)\n",
      "Requirement already satisfied: stack-data in /home/codespace/.local/lib/python3.10/site-packages (from ipython->watermark) (0.6.2)\n",
      "Requirement already satisfied: pickleshare in /home/codespace/.local/lib/python3.10/site-packages (from ipython->watermark) (0.7.5)\n",
      "Requirement already satisfied: parso<0.9.0,>=0.8.0 in /home/codespace/.local/lib/python3.10/site-packages (from jedi>=0.16->ipython->watermark) (0.8.3)\n",
      "Requirement already satisfied: ptyprocess>=0.5 in /home/codespace/.local/lib/python3.10/site-packages (from pexpect>4.3->ipython->watermark) (0.7.0)\n",
      "Requirement already satisfied: wcwidth in /home/codespace/.local/lib/python3.10/site-packages (from prompt-toolkit<3.1.0,>=3.0.11->ipython->watermark) (0.2.5)\n",
      "Requirement already satisfied: executing>=1.2.0 in /home/codespace/.local/lib/python3.10/site-packages (from stack-data->ipython->watermark) (1.2.0)\n",
      "Requirement already satisfied: pure-eval in /home/codespace/.local/lib/python3.10/site-packages (from stack-data->ipython->watermark) (0.2.2)\n",
      "Requirement already satisfied: asttokens>=2.1.0 in /home/codespace/.local/lib/python3.10/site-packages (from stack-data->ipython->watermark) (2.2.0)\n",
      "Requirement already satisfied: six in /home/codespace/.local/lib/python3.10/site-packages (from asttokens>=2.1.0->stack-data->ipython->watermark) (1.16.0)\n",
      "Note: you may need to restart the kernel to use updated packages.\n"
     ]
    }
   ],
   "source": [
    "%pip install watermark"
   ]
  },
  {
   "cell_type": "code",
   "execution_count": 3,
   "metadata": {},
   "outputs": [
    {
     "name": "stdout",
     "output_type": "stream",
     "text": [
      "Python implementation: CPython\n",
      "Python version       : 3.10.4\n",
      "IPython version      : 8.7.0\n",
      "\n",
      "numpy     : 1.23.5\n",
      "pandas    : 1.5.2\n",
      "matplotlib: 3.6.2\n",
      "\n"
     ]
    }
   ],
   "source": [
    "%load_ext watermark\n",
    "%watermark -v -p numpy,pandas,matplotlib"
   ]
  },
  {
   "cell_type": "code",
   "execution_count": 4,
   "metadata": {},
   "outputs": [],
   "source": [
    "import random\n",
    "import torch\n",
    "import numpy as np\n",
    "import pandas as pd\n",
    "import matplotlib.pyplot as plt"
   ]
  },
  {
   "attachments": {},
   "cell_type": "markdown",
   "metadata": {},
   "source": [
    "## Visualization"
   ]
  },
  {
   "cell_type": "code",
   "execution_count": 5,
   "metadata": {},
   "outputs": [
    {
     "data": {
      "text/html": [
       "<div>\n",
       "<style scoped>\n",
       "    .dataframe tbody tr th:only-of-type {\n",
       "        vertical-align: middle;\n",
       "    }\n",
       "\n",
       "    .dataframe tbody tr th {\n",
       "        vertical-align: top;\n",
       "    }\n",
       "\n",
       "    .dataframe thead th {\n",
       "        text-align: right;\n",
       "    }\n",
       "</style>\n",
       "<table border=\"1\" class=\"dataframe\">\n",
       "  <thead>\n",
       "    <tr style=\"text-align: right;\">\n",
       "      <th></th>\n",
       "      <th>x1</th>\n",
       "      <th>x2</th>\n",
       "      <th>label</th>\n",
       "    </tr>\n",
       "  </thead>\n",
       "  <tbody>\n",
       "    <tr>\n",
       "      <th>0</th>\n",
       "      <td>0.77</td>\n",
       "      <td>-1.14</td>\n",
       "      <td>0</td>\n",
       "    </tr>\n",
       "    <tr>\n",
       "      <th>1</th>\n",
       "      <td>-0.33</td>\n",
       "      <td>1.44</td>\n",
       "      <td>0</td>\n",
       "    </tr>\n",
       "    <tr>\n",
       "      <th>2</th>\n",
       "      <td>0.91</td>\n",
       "      <td>-3.07</td>\n",
       "      <td>0</td>\n",
       "    </tr>\n",
       "    <tr>\n",
       "      <th>3</th>\n",
       "      <td>-0.37</td>\n",
       "      <td>-1.91</td>\n",
       "      <td>0</td>\n",
       "    </tr>\n",
       "    <tr>\n",
       "      <th>4</th>\n",
       "      <td>-0.63</td>\n",
       "      <td>-1.53</td>\n",
       "      <td>0</td>\n",
       "    </tr>\n",
       "  </tbody>\n",
       "</table>\n",
       "</div>"
      ],
      "text/plain": [
       "     x1    x2  label\n",
       "0  0.77 -1.14      0\n",
       "1 -0.33  1.44      0\n",
       "2  0.91 -3.07      0\n",
       "3 -0.37 -1.91      0\n",
       "4 -0.63 -1.53      0"
      ]
     },
     "execution_count": 5,
     "metadata": {},
     "output_type": "execute_result"
    }
   ],
   "source": [
    "df = pd.read_csv(\"../Unit1/data/perceptron-toydata-truncated.txt\", sep=\"\\t\")\n",
    "df.head()"
   ]
  },
  {
   "cell_type": "code",
   "execution_count": 6,
   "metadata": {},
   "outputs": [
    {
     "data": {
      "text/plain": [
       "tensor([[ 0.7700, -1.1400],\n",
       "        [-0.3300,  1.4400],\n",
       "        [ 0.9100, -3.0700],\n",
       "        [-0.3700, -1.9100],\n",
       "        [-0.6300, -1.5300],\n",
       "        [ 0.3900, -1.9900],\n",
       "        [-0.4900, -2.7400],\n",
       "        [-0.6800, -1.5200],\n",
       "        [-0.1000, -3.4300],\n",
       "        [-0.0500, -1.9500],\n",
       "        [ 3.8800,  0.6500],\n",
       "        [ 0.7300,  2.9700],\n",
       "        [ 0.8300,  3.9400],\n",
       "        [ 1.5900,  1.2500],\n",
       "        [ 1.1400,  3.9100],\n",
       "        [ 1.7300,  2.8000],\n",
       "        [ 1.3100,  1.8500],\n",
       "        [ 1.5600,  3.8500],\n",
       "        [ 1.2300,  2.5400],\n",
       "        [ 1.3300,  2.0300]])"
      ]
     },
     "execution_count": 6,
     "metadata": {},
     "output_type": "execute_result"
    }
   ],
   "source": [
    "x_train = torch.from_numpy(df[[\"x1\", \"x2\"]].values).to(torch.float32)\n",
    "y_train = torch.from_numpy(df[\"label\"].values).to(torch.float32)\n",
    "\n",
    "x_train"
   ]
  },
  {
   "cell_type": "code",
   "execution_count": 7,
   "metadata": {},
   "outputs": [
    {
     "name": "stdout",
     "output_type": "stream",
     "text": [
      "torch.Size([20, 2]) torch.Size([20])\n"
     ]
    }
   ],
   "source": [
    "print(x_train.shape, y_train.shape)"
   ]
  },
  {
   "cell_type": "code",
   "execution_count": 8,
   "metadata": {},
   "outputs": [
    {
     "data": {
      "image/png": "[encoded data removed]",
      "text/plain": [
       "<Figure size 640x480 with 1 Axes>"
      ]
     },
     "metadata": {},
     "output_type": "display_data"
    }
   ],
   "source": [
    "plt.plot(\n",
    "    x_train[y_train == 0, 0],\n",
    "    x_train[y_train == 0, 1],\n",
    "    marker = \"D\",\n",
    "    markersize = 10,\n",
    "    linestyle = \"\",\n",
    "    label = \"Class 0\"\n",
    ")\n",
    "\n",
    "plt.plot(\n",
    "    x_train[y_train == 1, 0],\n",
    "    x_train[y_train == 1, 1],\n",
    "    marker = \"^\",\n",
    "    markersize = 13,\n",
    "    linestyle = \"\",\n",
    "    label = \"Class 1\"\n",
    ")\n",
    "\n",
    "plt.legend(loc=2)\n",
    "\n",
    "plt.xlim([-5, 5])\n",
    "plt.ylim([-5, 5])\n",
    "\n",
    "plt.xlabel(\"Feature $x_1$\", fontsize=12)\n",
    "plt.ylabel(\"Feature $x_2$\", fontsize=12)\n",
    "\n",
    "plt.grid()\n",
    "plt.show()"
   ]
  },
  {
   "attachments": {},
   "cell_type": "markdown",
   "metadata": {},
   "source": [
    "## Building a Perceptron using NumPy"
   ]
  },
  {
   "cell_type": "code",
   "execution_count": 9,
   "metadata": {},
   "outputs": [],
   "source": [
    "\n",
    "from typing import List\n",
    "\n",
    "class Perceptron:\n",
    "    def __init__(self, num_features: int, learning_rate: float = 0.5) -> int:\n",
    "        self.num_features: int = num_features\n",
    "        self.weights: List[float] = torch.zeros(num_features)\n",
    "        self.bias: torch.Tensor = torch.tensor(0.0)\n",
    "        self.learning_rate: float = torch.tensor(learning_rate)\n",
    "    \n",
    "    def forward(self, observations: List[float]) -> None:\n",
    "\n",
    "        weighted_sum: float = torch.matmul(torch.Tensor(observations), self.weights) + self.bias\n",
    "        if weighted_sum > 0.0:\n",
    "            return torch.tensor(1.0)\n",
    "\n",
    "        return torch.tensor(0.0)\n",
    "    \n",
    "    def update(self, features: List[float], true_label: int) -> float:\n",
    "        prediction: float = self.forward(features)\n",
    "        error: float = torch.tensor(true_label - prediction)\n",
    "        # update\n",
    "        self.bias = self.bias + self.learning_rate + error\n",
    "        self.weights = self.weights + error * torch.Tensor(features)\n",
    "        \n",
    "        return error"
   ]
  },
  {
   "cell_type": "code",
   "execution_count": 10,
   "metadata": {},
   "outputs": [
    {
     "name": "stdout",
     "output_type": "stream",
     "text": [
      "tensor([0., 0.]) tensor(0.)\n"
     ]
    },
    {
     "name": "stderr",
     "output_type": "stream",
     "text": [
      "/tmp/ipykernel_18813/1919575364.py:20: UserWarning: To copy construct from a tensor, it is recommended to use sourceTensor.clone().detach() or sourceTensor.clone().detach().requires_grad_(True), rather than torch.tensor(sourceTensor).\n",
      "  error: float = torch.tensor(true_label - prediction)\n"
     ]
    },
    {
     "data": {
      "text/plain": [
       "tensor(1.)"
      ]
     },
     "execution_count": 10,
     "metadata": {},
     "output_type": "execute_result"
    }
   ],
   "source": [
    "perceptron = Perceptron(num_features = 2)\n",
    "print(perceptron.weights, perceptron.bias)\n",
    "\n",
    "observations: List[float] = [1.1, 2.1]\n",
    "perceptron.update(features=observations, true_label=1)"
   ]
  },
  {
   "attachments": {},
   "cell_type": "markdown",
   "metadata": {},
   "source": [
    "## Training Perceptron"
   ]
  },
  {
   "cell_type": "code",
   "execution_count": 11,
   "metadata": {},
   "outputs": [],
   "source": [
    "def train(model, all_x, all_y, epochs):\n",
    "    for epoch in range(epochs):\n",
    "        error_count: int = 0\n",
    "        for x, y, in zip(all_x, all_y):\n",
    "            error: float = model.update(x, y)\n",
    "            error_count = error_count + abs(error)\n",
    "        \n",
    "        print(f\"Epoch {epoch+1} - Errors: {error_count}\")"
   ]
  },
  {
   "cell_type": "code",
   "execution_count": 17,
   "metadata": {},
   "outputs": [
    {
     "name": "stdout",
     "output_type": "stream",
     "text": [
      "Epoch 1 - Errors: 3.0\n",
      "Epoch 2 - Errors: 1.0\n",
      "Epoch 3 - Errors: 0.0\n",
      "Epoch 4 - Errors: 0.0\n",
      "Epoch 5 - Errors: 0.0\n"
     ]
    },
    {
     "name": "stderr",
     "output_type": "stream",
     "text": [
      "/tmp/ipykernel_18813/1919575364.py:20: UserWarning: To copy construct from a tensor, it is recommended to use sourceTensor.clone().detach() or sourceTensor.clone().detach().requires_grad_(True), rather than torch.tensor(sourceTensor).\n",
      "  error: float = torch.tensor(true_label - prediction)\n"
     ]
    }
   ],
   "source": [
    "perceptron = Perceptron(num_features = 2, learning_rate=0.001)\n",
    "train(model=perceptron, all_x=x_train, all_y=y_train, epochs=5)"
   ]
  },
  {
   "cell_type": "code",
   "execution_count": 18,
   "metadata": {},
   "outputs": [
    {
     "name": "stdout",
     "output_type": "stream",
     "text": [
      "Model parameters: \n",
      "    Weights: tensor([3.6300, 0.8400])\n",
      "    Bias: -1.899996042251587\n"
     ]
    }
   ],
   "source": [
    "print(\"Model parameters: \")\n",
    "print(f\"    Weights: {perceptron.weights}\")\n",
    "print(f\"    Bias: {perceptron.bias}\")"
   ]
  },
  {
   "attachments": {},
   "cell_type": "markdown",
   "metadata": {},
   "source": [
    "## Evaluating the results"
   ]
  },
  {
   "cell_type": "code",
   "execution_count": 19,
   "metadata": {},
   "outputs": [
    {
     "name": "stdout",
     "output_type": "stream",
     "text": [
      "Accuracy: 100.0\n"
     ]
    }
   ],
   "source": [
    "def compute_accuracy(model, all_x, all_y) -> float:\n",
    "    correct: float = 0.0\n",
    "\n",
    "    for x, y in zip(all_x, all_y):\n",
    "        prediction: int = model.forward(x)\n",
    "        correct = correct + int(prediction == y)\n",
    "\n",
    "    return correct/len(all_y)\n",
    "\n",
    "training_accuracy: float = compute_accuracy(perceptron, x_train, y_train)\n",
    "\n",
    "print(f\"Accuracy: {training_accuracy * 100}\")"
   ]
  },
  {
   "attachments": {},
   "cell_type": "markdown",
   "metadata": {},
   "source": [
    "## Visualizing the decision boundary"
   ]
  },
  {
   "cell_type": "code",
   "execution_count": 20,
   "metadata": {},
   "outputs": [],
   "source": [
    "def plot_boundary(model):\n",
    "    w1, w2 = model.weights[0], model.weights[1]\n",
    "    b = model.bias\n",
    "\n",
    "    x1_min = -20\n",
    "    x2_min = (-(w1 * x1_min) -b) / w2\n",
    "    x1_max = 20\n",
    "    x2_max = (-(w1 * x1_max) -b) / w2\n",
    "\n",
    "    return x1_min, x1_max, x2_min, x2_max"
   ]
  },
  {
   "cell_type": "code",
   "execution_count": 21,
   "metadata": {},
   "outputs": [
    {
     "data": {
      "image/png": "[encoded data removed]",
      "text/plain": [
       "<Figure size 640x480 with 1 Axes>"
      ]
     },
     "metadata": {},
     "output_type": "display_data"
    }
   ],
   "source": [
    "\n",
    "x1_min, x1_max, x2_min, x2_max = plot_boundary(perceptron)\n",
    "\n",
    "\n",
    "plt.plot(\n",
    "    x_train[y_train == 0, 0],\n",
    "    x_train[y_train == 0, 1],\n",
    "    marker = \"D\",\n",
    "    markersize = 10,\n",
    "    linestyle = \"\",\n",
    "    label = \"Class 0\"\n",
    ")\n",
    "\n",
    "plt.plot(\n",
    "    x_train[y_train == 1, 0],\n",
    "    x_train[y_train == 1, 1],\n",
    "    marker = \"^\",\n",
    "    markersize = 13,\n",
    "    linestyle = \"\",\n",
    "    label = \"Class 1\"\n",
    ")\n",
    "\n",
    "plt.plot([x1_min, x1_max], [x2_min, x2_max], color=\"k\")\n",
    "plt.legend(loc=2)\n",
    "\n",
    "plt.xlim([-5, 5])\n",
    "plt.ylim([-5, 5])\n",
    "\n",
    "plt.xlabel(\"Feature $x_1$\", fontsize=12)\n",
    "plt.ylabel(\"Feature $x_2$\", fontsize=12)\n",
    "\n",
    "plt.grid()\n",
    "plt.show()"
   ]
  }
 ],
 "metadata": {
  "kernelspec": {
   "display_name": "Python 3",
   "language": "python",
   "name": "python3"
  },
  "language_info": {
   "codemirror_mode": {
    "name": "ipython",
    "version": 3
   },
   "file_extension": ".py",
   "mimetype": "text/x-python",
   "name": "python",
   "nbconvert_exporter": "python",
   "pygments_lexer": "ipython3",
   "version": "3.10.4"
  },
  "orig_nbformat": 4,
  "vscode": {
   "interpreter": {
    "hash": "3ad933181bd8a04b432d3370b9dc3b0662ad032c4dfaa4e4f1596c548f763858"
   }
  }
 },
 "nbformat": 4,
 "nbformat_minor": 2
}
