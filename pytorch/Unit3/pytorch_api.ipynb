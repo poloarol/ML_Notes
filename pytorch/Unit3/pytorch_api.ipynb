{
 "cells": [
  {
   "cell_type": "code",
   "execution_count": null,
   "metadata": {},
   "outputs": [],
   "source": [
    "# Architure of a PyTorch model\n",
    "\n",
    "import torch\n",
    "\n",
    "class MyClassifier(torch.nn.Module):\n",
    "    def __init__(self) -> None:\n",
    "        super().__init__()\n",
    "\n",
    "    def forward(self, x):\n",
    "        pass\n",
    "\n",
    "model = MyClassifier()\n",
    "optimizers = torch.optim.SGD()\n",
    "\n",
    "train_dataloader = {}\n",
    "\n",
    "def loss_fn(a, b):\n",
    "    pass\n",
    "\n",
    "num_epochs = 10\n",
    "\n",
    "for epoch in range(num_epochs):\n",
    "    for x, y in train_dataloader:\n",
    "        \n",
    "        # forward pass\n",
    "        outputs = model(x)\n",
    "        loss = loss_fn(outputs, y)\n",
    "        \n",
    "        # backward pass (backpropagation)\n",
    "        optimizers.zero_grad()\n",
    "        loss.backward()\n",
    "\n",
    "        # update model parameters\n",
    "        optimizers.step()"
   ]
  }
 ],
 "metadata": {
  "language_info": {
   "name": "python"
  },
  "orig_nbformat": 4
 },
 "nbformat": 4,
 "nbformat_minor": 2
}
