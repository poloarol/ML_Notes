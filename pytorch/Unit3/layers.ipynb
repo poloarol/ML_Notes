{
 "cells": [
  {
   "cell_type": "code",
   "execution_count": 5,
   "metadata": {},
   "outputs": [
    {
     "name": "stdout",
     "output_type": "stream",
     "text": [
      "tensor([[-0.6855],\n",
      "        [-0.5343],\n",
      "        [-0.3753]], grad_fn=<AddmmBackward0>)\n"
     ]
    }
   ],
   "source": [
    "\n",
    "import torch\n",
    "\n",
    "\n",
    "torch.manual_seed(123) # For reproducibility\n",
    "\n",
    "linear = torch.nn.Linear(in_features=2, out_features=1)\n",
    "\n",
    "# print(linear.weight)\n",
    "# print(linear.bias)\n",
    "\n",
    "x = torch.tensor([[1.2, 0.5], [0.7, 0.8], [0.1, 0.2]])\n",
    "# print(x)\n",
    "\n",
    "# w = linear.weight.detach()\n",
    "# b = linear.bias.detach()\n",
    "# z = x.matmul(w.T) + b\n",
    "\n",
    "# print(z)\n",
    "\n",
    "z = linear(x)\n",
    "print(z)\n",
    "\n"
   ]
  }
 ],
 "metadata": {
  "kernelspec": {
   "display_name": "Python 3",
   "language": "python",
   "name": "python3"
  },
  "language_info": {
   "codemirror_mode": {
    "name": "ipython",
    "version": 3
   },
   "file_extension": ".py",
   "mimetype": "text/x-python",
   "name": "python",
   "nbconvert_exporter": "python",
   "pygments_lexer": "ipython3",
   "version": "3.10.4"
  },
  "orig_nbformat": 4,
  "vscode": {
   "interpreter": {
    "hash": "3ad933181bd8a04b432d3370b9dc3b0662ad032c4dfaa4e4f1596c548f763858"
   }
  }
 },
 "nbformat": 4,
 "nbformat_minor": 2
}
